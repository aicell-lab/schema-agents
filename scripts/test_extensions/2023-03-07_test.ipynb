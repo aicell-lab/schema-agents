{
 "cells": [
  {
   "cell_type": "code",
   "execution_count": 26,
   "metadata": {},
   "outputs": [],
   "source": [
    "import sys\n",
    "import os\n",
    "import pandas as pd\n",
    "import json"
   ]
  },
  {
   "cell_type": "code",
   "execution_count": 27,
   "metadata": {},
   "outputs": [],
   "source": [
    "with open('/Users/gkreder/Downloads/pubmedqa/data/ori_pqaa.json', 'r') as f:\n",
    "    data = json.load(f)\n",
    "unique_meshes = set([item for sublist in [v['MESHES'] for k, v in data.items() if v['MESHES']] for item in sublist])\n",
    "with open('unique_meshes_automatic.json', 'w') as f:\n",
    "    json.dump(list(unique_meshes), f)"
   ]
  },
  {
   "cell_type": "code",
   "execution_count": 28,
   "metadata": {},
   "outputs": [],
   "source": [
    "with open('/Users/gkreder/Downloads/pubmedqa/data/ori_pqal.json', 'r') as f:\n",
    "    data_labeled = json.load(f)\n",
    "unique_meshes_labeled = set([item for sublist in [v['MESHES'] for k, v in data_labeled.items() if v['MESHES']] for item in sublist])\n",
    "with open('unique_meshes_labeled.json', 'w') as f:\n",
    "    json.dump(list(unique_meshes_labeled), f)"
   ]
  },
  {
   "cell_type": "code",
   "execution_count": 30,
   "metadata": {},
   "outputs": [
    {
     "name": "stdout",
     "output_type": "stream",
     "text": [
      "{'24622801': {'QUESTION': 'Does implant coating with antibacterial-loaded hydrogel reduce bacterial colonization and biofilm formation in vitro?', 'CONTEXTS': ['Implant-related infections represent one of the most severe complications in orthopaedics. A fast-resorbable, antibacterial-loaded hydrogel may reduce or prevent bacterial colonization and biofilm formation of implanted biomaterials.QUESTIONS/', 'We asked: (1) Is a fast-resorbable hydrogel able to deliver antibacterial compounds in vitro? (2) Can a hydrogel (alone or antibacterial-loaded) coating on implants reduce bacterial colonization? And (3) is intraoperative coating feasible and resistant to press-fit implant insertion?', 'We tested the ability of Disposable Antibacterial Coating (DAC) hydrogel (Novagenit Srl, Mezzolombardo, Italy) to deliver antibacterial agents using spectrophotometry and a microbiologic assay. Antibacterial and antibiofilm activity were determined by broth microdilution and a crystal violet assay, respectively. Coating resistance to press-fit insertion was tested in rabbit tibias and human femurs.', 'Complete release of all tested antibacterial compounds was observed in less than 96 hours. Bactericidal and antibiofilm effect of DAC hydrogel in combination with various antibacterials was shown in vitro. Approximately 80% of the hydrogel coating was retrieved on the implant after press-fit insertion.'], 'LABELS': ['BACKGROUND', 'PURPOSES', 'METHODS', 'RESULTS'], 'MESHES': ['Absorbable Implants', 'Animals', 'Anti-Bacterial Agents', 'Biofilms', 'Coated Materials, Biocompatible', 'Drug Carriers', 'Drug Delivery Systems', 'Feasibility Studies', 'Femur', 'Humans', 'Hydrogel, Polyethylene Glycol Dimethacrylate', 'In Vitro Techniques', 'Microbial Sensitivity Tests', 'Prosthesis-Related Infections', 'Rabbits', 'Staphylococcus aureus', 'Staphylococcus epidermidis', 'Tibia'], 'YEAR': '2014', 'reasoning_required_pred': 'yes', 'reasoning_free_pred': 'yes', 'final_decision': 'yes', 'LONG_ANSWER': 'Implant coating with an antibacterial-loaded hydrogel reduces bacterial colonization and biofilm formation in vitro.'}, '20577124': {'QUESTION': 'Is leptin involved in phagocytic NADPH oxidase overactivity in obesity?', 'CONTEXTS': ['Hyperleptinemia and oxidative stress play a major role in the development of cardiovascular diseases in obesity. This study aimed to investigate whether there is a relationship between plasma levels of leptin and phagocytic nicotinamide adenine dinucleotide phosphate (NADPH) oxidase activity, and its potential relevance in the vascular remodeling in obese patients.', 'The study was performed in 164 obese and 94 normal-weight individuals (controls). NADPH oxidase activity was evaluated by luminescence in phagocytic cells. Levels of leptin were quantified by ELISA in plasma samples. Carotid intima-media thickness (cIMT) was measured by ultrasonography. In addition, we performed in-vitro experiments in human peripheral blood mononuclear cells and murine macrophages.', 'Phagocytic NADPH oxidase activity and leptin levels were enhanced (P<0.05) in obese patients compared with controls. NADPH oxidase activity positively correlated with leptin in obese patients. This association remained significant in a multivariate analysis. cIMT was higher (P<0.05) in obese patients compared with controls. In addition, cIMT also correlated positively with leptin and NADPH oxidase activity in obese patients. In-vitro studies showed that leptin induced NADPH oxidase activation. Inhibition of the leptin-induced NADPH oxidase activity by wortmannin and bisindolyl maleimide suggested a direct involvement of the phosphatidylinositol 3-kinase and protein kinase C pathways, respectively. Finally, leptin-induced NADPH oxidase activation promoted macrophage proliferation.'], 'LABELS': ['OBJECTIVES', 'METHODS', 'RESULTS'], 'MESHES': ['Animals', 'Atherosclerosis', 'Carotid Arteries', 'Case-Control Studies', 'Cell Line', 'Cell Proliferation', 'Female', 'Humans', 'In Vitro Techniques', 'Leptin', 'Macrophages', 'Male', 'Mice', 'Middle Aged', 'NADPH Oxidases', 'Obesity', 'Oxidative Stress', 'Phagocytes', 'Superoxides', 'Tunica Intima'], 'YEAR': '2010', 'reasoning_required_pred': 'yes', 'reasoning_free_pred': 'yes', 'final_decision': 'yes', 'LONG_ANSWER': 'These findings show that phagocytic NADPH oxidase activity is increased in obesity and is related to preclinical atherosclerosis in this condition. We also suggest that hyperleptinemia may contribute to phagocytic NADPH oxidase overactivity in obesity.'}, '12121321': {'QUESTION': 'Do mossy fibers release GABA?', 'CONTEXTS': ['Mossy fibers are the sole excitatory projection from dentate gyrus granule cells to the hippocampus, forming part of the trisynaptic hippocampal circuit. They undergo significant plasticity during epileptogenesis and have been implicated in seizure generation. Mossy fibers are a highly unusual projection in the mammalian brain; in addition to glutamate, they release adenosine, dynorphin, zinc, and possibly other peptides. Mossy fiber terminals also show intense immunoreactivity for the inhibitory neurotransmitter gamma-aminobutyric acid (GABA), and immunoreactivity for GAD67. The purpose of this review is to present physiologic evidence of GABA release by mossy fibers and its modulation by epileptic activity.', 'We used hippocampal slices from 3- to 5-week-old guinea pigs and made whole-cell voltage clamp recordings from CA3 pyramidal cells. We placed stimulating electrodes in stratum granulosum and adjusted their position in order to recruit mossy fiber to CA3 projections.', 'We have shown that electrical stimuli that recruit dentate granule cells elicit monosynaptic GABAA receptor-mediated synaptic signals in CA3 pyramidal neurons. These inhibitory signals satisfy the criteria that distinguish mossy fiber-CA3 synapses: high sensitivity to metabotropic glutamate-receptor agonists, facilitation during repetitive stimulation, and N-methyl-D-aspartate (NMDA) receptor-independent long-term potentiation.'], 'LABELS': ['PURPOSE', 'METHODS', 'RESULTS'], 'MESHES': ['Animals', 'Excitatory Postsynaptic Potentials', 'Glutamic Acid', 'Guinea Pigs', 'In Vitro Techniques', 'Mossy Fibers, Hippocampal', 'Neural Inhibition', 'Patch-Clamp Techniques', 'Pyramidal Cells', 'Receptors, GABA-A', 'Signal Transduction', 'Synapses', 'Synaptic Transmission', 'gamma-Aminobutyric Acid'], 'YEAR': '2002', 'reasoning_required_pred': 'yes', 'reasoning_free_pred': 'yes', 'final_decision': 'yes', 'LONG_ANSWER': 'We have thus provided compelling evidence that there is a mossy fiber GABAergic signal. The physiologic role of this mossy fiber GABAergic signal is uncertain, but may be of developmental importance. Other evidence suggests that this GABAergic signal is transiently upregulated after seizures. This could have an inhibitory or disinhibitory effect, and further work is needed to elucidate its actual role.'}}\n"
     ]
    }
   ],
   "source": [
    "keywords = ['In Vitro Techniques']\n",
    "keyword_studies = {k : v for k,v in data_labeled.items() if set([x for x in v['MESHES']]).intersection(set(keywords))}\n",
    "with open('keyword_studies.json', 'w') as f:\n",
    "    json.dump(keyword_studies, f)\n",
    "print(keyword_studies)"
   ]
  }
 ],
 "metadata": {
  "kernelspec": {
   "display_name": "exponential-chain",
   "language": "python",
   "name": "python3"
  },
  "language_info": {
   "codemirror_mode": {
    "name": "ipython",
    "version": 3
   },
   "file_extension": ".py",
   "mimetype": "text/x-python",
   "name": "python",
   "nbconvert_exporter": "python",
   "pygments_lexer": "ipython3",
   "version": "3.10.13"
  }
 },
 "nbformat": 4,
 "nbformat_minor": 2
}
