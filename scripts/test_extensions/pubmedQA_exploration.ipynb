{
 "cells": [
  {
   "cell_type": "code",
   "execution_count": 26,
   "metadata": {},
   "outputs": [],
   "source": [
    "import sys\n",
    "import os\n",
    "import pandas as pd\n",
    "import json"
   ]
  },
  {
   "cell_type": "code",
   "execution_count": 27,
   "metadata": {},
   "outputs": [],
   "source": [
    "with open('/Users/gkreder/Downloads/pubmedqa/data/ori_pqaa.json', 'r') as f:\n",
    "    data = json.load(f)\n",
    "unique_meshes = set([item for sublist in [v['MESHES'] for k, v in data.items() if v['MESHES']] for item in sublist])\n",
    "with open('unique_meshes_automatic.json', 'w') as f:\n",
    "    json.dump(list(unique_meshes), f)"
   ]
  },
  {
   "cell_type": "code",
   "execution_count": 28,
   "metadata": {},
   "outputs": [],
   "source": [
    "with open('/Users/gkreder/Downloads/pubmedqa/data/ori_pqal.json', 'r') as f:\n",
    "    data_labeled = json.load(f)\n",
    "unique_meshes_labeled = set([item for sublist in [v['MESHES'] for k, v in data_labeled.items() if v['MESHES']] for item in sublist])\n",
    "with open('unique_meshes_labeled.json', 'w') as f:\n",
    "    json.dump(list(unique_meshes_labeled), f)"
   ]
  },
  {
   "cell_type": "code",
   "execution_count": 29,
   "metadata": {},
   "outputs": [
    {
     "name": "stdout",
     "output_type": "stream",
     "text": [
      "{'24622801': {'QUESTION': 'Does implant coating with antibacterial-loaded hydrogel reduce bacterial colonization and biofilm formation in vitro?', 'CONTEXTS': ['Implant-related infections represent one of the most severe complications in orthopaedics. A fast-resorbable, antibacterial-loaded hydrogel may reduce or prevent bacterial colonization and biofilm formation of implanted biomaterials.QUESTIONS/', 'We asked: (1) Is a fast-resorbable hydrogel able to deliver antibacterial compounds in vitro? (2) Can a hydrogel (alone or antibacterial-loaded) coating on implants reduce bacterial colonization? And (3) is intraoperative coating feasible and resistant to press-fit implant insertion?', 'We tested the ability of Disposable Antibacterial Coating (DAC) hydrogel (Novagenit Srl, Mezzolombardo, Italy) to deliver antibacterial agents using spectrophotometry and a microbiologic assay. Antibacterial and antibiofilm activity were determined by broth microdilution and a crystal violet assay, respectively. Coating resistance to press-fit insertion was tested in rabbit tibias and human femurs.', 'Complete release of all tested antibacterial compounds was observed in less than 96 hours. Bactericidal and antibiofilm effect of DAC hydrogel in combination with various antibacterials was shown in vitro. Approximately 80% of the hydrogel coating was retrieved on the implant after press-fit insertion.'], 'LABELS': ['BACKGROUND', 'PURPOSES', 'METHODS', 'RESULTS'], 'MESHES': ['Absorbable Implants', 'Animals', 'Anti-Bacterial Agents', 'Biofilms', 'Coated Materials, Biocompatible', 'Drug Carriers', 'Drug Delivery Systems', 'Feasibility Studies', 'Femur', 'Humans', 'Hydrogel, Polyethylene Glycol Dimethacrylate', 'In Vitro Techniques', 'Microbial Sensitivity Tests', 'Prosthesis-Related Infections', 'Rabbits', 'Staphylococcus aureus', 'Staphylococcus epidermidis', 'Tibia'], 'YEAR': '2014', 'reasoning_required_pred': 'yes', 'reasoning_free_pred': 'yes', 'final_decision': 'yes', 'LONG_ANSWER': 'Implant coating with an antibacterial-loaded hydrogel reduces bacterial colonization and biofilm formation in vitro.'}, '20577124': {'QUESTION': 'Is leptin involved in phagocytic NADPH oxidase overactivity in obesity?', 'CONTEXTS': ['Hyperleptinemia and oxidative stress play a major role in the development of cardiovascular diseases in obesity. This study aimed to investigate whether there is a relationship between plasma levels of leptin and phagocytic nicotinamide adenine dinucleotide phosphate (NADPH) oxidase activity, and its potential relevance in the vascular remodeling in obese patients.', 'The study was performed in 164 obese and 94 normal-weight individuals (controls). NADPH oxidase activity was evaluated by luminescence in phagocytic cells. Levels of leptin were quantified by ELISA in plasma samples. Carotid intima-media thickness (cIMT) was measured by ultrasonography. In addition, we performed in-vitro experiments in human peripheral blood mononuclear cells and murine macrophages.', 'Phagocytic NADPH oxidase activity and leptin levels were enhanced (P<0.05) in obese patients compared with controls. NADPH oxidase activity positively correlated with leptin in obese patients. This association remained significant in a multivariate analysis. cIMT was higher (P<0.05) in obese patients compared with controls. In addition, cIMT also correlated positively with leptin and NADPH oxidase activity in obese patients. In-vitro studies showed that leptin induced NADPH oxidase activation. Inhibition of the leptin-induced NADPH oxidase activity by wortmannin and bisindolyl maleimide suggested a direct involvement of the phosphatidylinositol 3-kinase and protein kinase C pathways, respectively. Finally, leptin-induced NADPH oxidase activation promoted macrophage proliferation.'], 'LABELS': ['OBJECTIVES', 'METHODS', 'RESULTS'], 'MESHES': ['Animals', 'Atherosclerosis', 'Carotid Arteries', 'Case-Control Studies', 'Cell Line', 'Cell Proliferation', 'Female', 'Humans', 'In Vitro Techniques', 'Leptin', 'Macrophages', 'Male', 'Mice', 'Middle Aged', 'NADPH Oxidases', 'Obesity', 'Oxidative Stress', 'Phagocytes', 'Superoxides', 'Tunica Intima'], 'YEAR': '2010', 'reasoning_required_pred': 'yes', 'reasoning_free_pred': 'yes', 'final_decision': 'yes', 'LONG_ANSWER': 'These findings show that phagocytic NADPH oxidase activity is increased in obesity and is related to preclinical atherosclerosis in this condition. We also suggest that hyperleptinemia may contribute to phagocytic NADPH oxidase overactivity in obesity.'}, '12121321': {'QUESTION': 'Do mossy fibers release GABA?', 'CONTEXTS': ['Mossy fibers are the sole excitatory projection from dentate gyrus granule cells to the hippocampus, forming part of the trisynaptic hippocampal circuit. They undergo significant plasticity during epileptogenesis and have been implicated in seizure generation. Mossy fibers are a highly unusual projection in the mammalian brain; in addition to glutamate, they release adenosine, dynorphin, zinc, and possibly other peptides. Mossy fiber terminals also show intense immunoreactivity for the inhibitory neurotransmitter gamma-aminobutyric acid (GABA), and immunoreactivity for GAD67. The purpose of this review is to present physiologic evidence of GABA release by mossy fibers and its modulation by epileptic activity.', 'We used hippocampal slices from 3- to 5-week-old guinea pigs and made whole-cell voltage clamp recordings from CA3 pyramidal cells. We placed stimulating electrodes in stratum granulosum and adjusted their position in order to recruit mossy fiber to CA3 projections.', 'We have shown that electrical stimuli that recruit dentate granule cells elicit monosynaptic GABAA receptor-mediated synaptic signals in CA3 pyramidal neurons. These inhibitory signals satisfy the criteria that distinguish mossy fiber-CA3 synapses: high sensitivity to metabotropic glutamate-receptor agonists, facilitation during repetitive stimulation, and N-methyl-D-aspartate (NMDA) receptor-independent long-term potentiation.'], 'LABELS': ['PURPOSE', 'METHODS', 'RESULTS'], 'MESHES': ['Animals', 'Excitatory Postsynaptic Potentials', 'Glutamic Acid', 'Guinea Pigs', 'In Vitro Techniques', 'Mossy Fibers, Hippocampal', 'Neural Inhibition', 'Patch-Clamp Techniques', 'Pyramidal Cells', 'Receptors, GABA-A', 'Signal Transduction', 'Synapses', 'Synaptic Transmission', 'gamma-Aminobutyric Acid'], 'YEAR': '2002', 'reasoning_required_pred': 'yes', 'reasoning_free_pred': 'yes', 'final_decision': 'yes', 'LONG_ANSWER': 'We have thus provided compelling evidence that there is a mossy fiber GABAergic signal. The physiologic role of this mossy fiber GABAergic signal is uncertain, but may be of developmental importance. Other evidence suggests that this GABAergic signal is transiently upregulated after seizures. This could have an inhibitory or disinhibitory effect, and further work is needed to elucidate its actual role.'}}\n"
     ]
    }
   ],
   "source": [
    "keywords = ['In Vitro Techniques']\n",
    "keyword_studies = {k : v for k,v in data_labeled.items() if set([x for x in v['MESHES']]).intersection(set(keywords))}\n",
    "with open('keyword_studies.json', 'w') as f:\n",
    "    json.dump(keyword_studies, f)\n",
    "print(keyword_studies)"
   ]
  },
  {
   "cell_type": "code",
   "execution_count": 52,
   "metadata": {},
   "outputs": [
    {
     "name": "stdout",
     "output_type": "stream",
     "text": [
      "2017 1989\n"
     ]
    },
    {
     "data": {
      "image/png": "[encoded data removed]",
      "text/plain": [
       "<Figure size 1000x500 with 1 Axes>"
      ]
     },
     "metadata": {},
     "output_type": "display_data"
    }
   ],
   "source": [
    "import matplotlib.pyplot as plt\n",
    "# years = [int(v['YEAR']) for k,v in data.items() if 'YEAR' in v.keys() and v['YEAR']] # The automatic data doesn't have year labels\n",
    "years_labeled = [int(v['YEAR']) for k,v in data_labeled.items() if v['YEAR']]\n",
    "print(max(years_labeled), min(years_labeled))\n",
    "# print(max(years), max(years_labeled), min(years), min(years_labeled))\n",
    "\n",
    "plt.figure(figsize=(10, 5))\n",
    "# plt.hist(years, bins=30, alpha=0.5, label='data', density=True, range=(min(years), max(years)))\n",
    "plt.hist(years_labeled, bins=30, alpha=0.5, label='data_labeled', density=False, range=(min(years_labeled), max(years_labeled)))\n",
    "plt.xlabel('Year')\n",
    "plt.ylabel('Frequency')\n",
    "plt.title(f'Year Distribution of Studies (total: {len(years_labeled)})')\n",
    "plt.legend()\n",
    "plt.savefig('/Users/gkreder/Downloads/pubmedqa-labeled-year-distribution.svg')\n",
    "plt.show()\n",
    "\n"
   ]
  },
  {
   "cell_type": "code",
   "execution_count": 44,
   "metadata": {},
   "outputs": [
    {
     "name": "stdout",
     "output_type": "stream",
     "text": [
      "486\n"
     ]
    }
   ],
   "source": [
    "data_labeled_2010 = {k: v for k, v in data_labeled.items() if (('YEAR' in v.keys()) and (v['YEAR']) and (int(v['YEAR']) >= 2010))}\n",
    "print(len(data_labeled_2010))"
   ]
  },
  {
   "cell_type": "code",
   "execution_count": 45,
   "metadata": {},
   "outputs": [],
   "source": [
    "with open('data_labeled_2010.json', 'w') as f:\n",
    "    json.dump(data_labeled_2010, f)"
   ]
  },
  {
   "cell_type": "code",
   "execution_count": 49,
   "metadata": {},
   "outputs": [
    {
     "name": "stdout",
     "output_type": "stream",
     "text": [
      "2161\n"
     ]
    }
   ],
   "source": [
    "unique_meshes_labeled_2010 = set([item for sublist in [v['MESHES'] for k, v in data_labeled_2010.items() if v['MESHES']] for item in sublist])\n",
    "print(len(unique_meshes_labeled_2010))\n",
    "with open('unique_meshes_labeled_2010.json', 'w') as f:\n",
    "    json.dump(list(unique_meshes_labeled_2010), f)\n"
   ]
  },
  {
   "cell_type": "code",
   "execution_count": 50,
   "metadata": {},
   "outputs": [
    {
     "name": "stdout",
     "output_type": "stream",
     "text": [
      "2\n"
     ]
    }
   ],
   "source": [
    "keywords = ['Cell Line']\n",
    "keyword_studies = {k : v for k,v in data_labeled_2010.items() if set([x for x in v['MESHES']]).intersection(set(keywords))}\n",
    "print(len(keyword_studies))"
   ]
  },
  {
   "cell_type": "code",
   "execution_count": 51,
   "metadata": {},
   "outputs": [
    {
     "data": {
      "text/plain": [
       "{'26867834': {'QUESTION': 'Is Alveolar Macrophage Phagocytic Dysfunction in Children With Protracted Bacterial Bronchitis a Forerunner to Bronchiectasis?',\n",
       "  'CONTEXTS': ['Children with recurrent protracted bacterial bronchitis (PBB) and bronchiectasis share common features, and PBB is likely a forerunner to bronchiectasis. Both diseases are associated with neutrophilic inflammation and frequent isolation of potentially pathogenic microorganisms, including nontypeable Haemophilus influenzae (NTHi), from the lower airway. Defective alveolar macrophage phagocytosis of apoptotic bronchial epithelial cells (efferocytosis), as found in other chronic lung diseases, may also contribute to tissue damage and neutrophil persistence. Thus, in children with bronchiectasis or PBB and in control subjects, we quantified the phagocytosis of airway apoptotic cells and NTHi by alveolar macrophages and related the phagocytic capacity to clinical and airway inflammation.',\n",
       "   'Children with bronchiectasis (n = 55) or PBB (n = 13) and control subjects (n = 13) were recruited. Alveolar macrophage phagocytosis, efferocytosis, and expression of phagocytic scavenger receptors were assessed by flow cytometry. Bronchoalveolar lavage fluid interleukin (IL) 1β was measured by enzyme-linked immunosorbent assay.',\n",
       "   'For children with PBB or bronchiectasis, macrophage phagocytic capacity was significantly lower than for control subjects (P = .003 and P<.001 for efferocytosis and P = .041 and P = .004 for phagocytosis of NTHi; PBB and bronchiectasis, respectively); median phagocytosis of NTHi for the groups was as follows: bronchiectasis, 13.7% (interquartile range [IQR], 11%-16%); PBB, 16% (IQR, 11%-16%); control subjects, 19.0% (IQR, 13%-21%); and median efferocytosis for the groups was as follows: bronchiectasis, 14.1% (IQR, 10%-16%); PBB, 16.2% (IQR, 14%-17%); control subjects, 18.1% (IQR, 16%-21%). Mannose receptor expression was significantly reduced in the bronchiectasis group (P = .019), and IL-1β increased in both bronchiectasis and PBB groups vs control subjects.'],\n",
       "  'LABELS': ['BACKGROUND', 'METHODS', 'RESULTS'],\n",
       "  'MESHES': ['Apoptosis',\n",
       "   'Bacterial Infections',\n",
       "   'Bronchiectasis',\n",
       "   'Bronchitis',\n",
       "   'Bronchoalveolar Lavage Fluid',\n",
       "   'Cell Line',\n",
       "   'Child, Preschool',\n",
       "   'Enzyme-Linked Immunosorbent Assay',\n",
       "   'Female',\n",
       "   'Humans',\n",
       "   'Infant',\n",
       "   'Macrophages, Alveolar',\n",
       "   'Male',\n",
       "   'Phagocytosis'],\n",
       "  'YEAR': '2016',\n",
       "  'reasoning_required_pred': 'yes',\n",
       "  'reasoning_free_pred': 'yes',\n",
       "  'final_decision': 'yes',\n",
       "  'LONG_ANSWER': 'A reduced alveolar macrophage phagocytic host response to apoptotic cells or NTHi may contribute to neutrophilic inflammation and NTHi colonization in both PBB and bronchiectasis. Whether this mechanism also contributes to the progression of PBB to bronchiectasis remains unknown.'},\n",
       " '20577124': {'QUESTION': 'Is leptin involved in phagocytic NADPH oxidase overactivity in obesity?',\n",
       "  'CONTEXTS': ['Hyperleptinemia and oxidative stress play a major role in the development of cardiovascular diseases in obesity. This study aimed to investigate whether there is a relationship between plasma levels of leptin and phagocytic nicotinamide adenine dinucleotide phosphate (NADPH) oxidase activity, and its potential relevance in the vascular remodeling in obese patients.',\n",
       "   'The study was performed in 164 obese and 94 normal-weight individuals (controls). NADPH oxidase activity was evaluated by luminescence in phagocytic cells. Levels of leptin were quantified by ELISA in plasma samples. Carotid intima-media thickness (cIMT) was measured by ultrasonography. In addition, we performed in-vitro experiments in human peripheral blood mononuclear cells and murine macrophages.',\n",
       "   'Phagocytic NADPH oxidase activity and leptin levels were enhanced (P<0.05) in obese patients compared with controls. NADPH oxidase activity positively correlated with leptin in obese patients. This association remained significant in a multivariate analysis. cIMT was higher (P<0.05) in obese patients compared with controls. In addition, cIMT also correlated positively with leptin and NADPH oxidase activity in obese patients. In-vitro studies showed that leptin induced NADPH oxidase activation. Inhibition of the leptin-induced NADPH oxidase activity by wortmannin and bisindolyl maleimide suggested a direct involvement of the phosphatidylinositol 3-kinase and protein kinase C pathways, respectively. Finally, leptin-induced NADPH oxidase activation promoted macrophage proliferation.'],\n",
       "  'LABELS': ['OBJECTIVES', 'METHODS', 'RESULTS'],\n",
       "  'MESHES': ['Animals',\n",
       "   'Atherosclerosis',\n",
       "   'Carotid Arteries',\n",
       "   'Case-Control Studies',\n",
       "   'Cell Line',\n",
       "   'Cell Proliferation',\n",
       "   'Female',\n",
       "   'Humans',\n",
       "   'In Vitro Techniques',\n",
       "   'Leptin',\n",
       "   'Macrophages',\n",
       "   'Male',\n",
       "   'Mice',\n",
       "   'Middle Aged',\n",
       "   'NADPH Oxidases',\n",
       "   'Obesity',\n",
       "   'Oxidative Stress',\n",
       "   'Phagocytes',\n",
       "   'Superoxides',\n",
       "   'Tunica Intima'],\n",
       "  'YEAR': '2010',\n",
       "  'reasoning_required_pred': 'yes',\n",
       "  'reasoning_free_pred': 'yes',\n",
       "  'final_decision': 'yes',\n",
       "  'LONG_ANSWER': 'These findings show that phagocytic NADPH oxidase activity is increased in obesity and is related to preclinical atherosclerosis in this condition. We also suggest that hyperleptinemia may contribute to phagocytic NADPH oxidase overactivity in obesity.'}}"
      ]
     },
     "execution_count": 51,
     "metadata": {},
     "output_type": "execute_result"
    }
   ],
   "source": [
    "keyword_studies"
   ]
  }
 ],
 "metadata": {
  "kernelspec": {
   "display_name": "exponential-chain",
   "language": "python",
   "name": "python3"
  },
  "language_info": {
   "codemirror_mode": {
    "name": "ipython",
    "version": 3
   },
   "file_extension": ".py",
   "mimetype": "text/x-python",
   "name": "python",
   "nbconvert_exporter": "python",
   "pygments_lexer": "ipython3",
   "version": "3.10.13"
  }
 },
 "nbformat": 4,
 "nbformat_minor": 2
}
