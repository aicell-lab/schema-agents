{
 "cells": [
  {
   "cell_type": "code",
   "execution_count": 4,
   "metadata": {},
   "outputs": [
    {
     "name": "stderr",
     "output_type": "stream",
     "text": [
      "\u001b[32m2024-03-05 11:41:19.316\u001b[0m | \u001b[1mINFO    \u001b[0m | \u001b[36mschema_agents.config\u001b[0m:\u001b[36m__init__\u001b[0m:\u001b[36m44\u001b[0m - \u001b[1mConfig loading done.\u001b[0m\n",
      "\u001b[32m2024-03-05 11:41:19.317\u001b[0m | \u001b[1mINFO    \u001b[0m | \u001b[36mschema_agents.config\u001b[0m:\u001b[36m__init__\u001b[0m:\u001b[36m55\u001b[0m - \u001b[1mSet OPENAI_API_BASE in case of network issues\u001b[0m\n"
     ]
    }
   ],
   "source": [
    "import os\n",
    "from enum import Enum\n",
    "import inspect\n",
    "from schema_agents.provider.openai_api import retry\n",
    "import asyncio\n",
    "from paperqa import Docs\n",
    "from typing import List, Optional, Union, Type, Any, get_type_hints, Tuple, Literal\n",
    "from pydantic import BaseModel, Field, validator, create_model\n",
    "from bioimageio_chatbot.utils import ChatbotExtension\n",
    "import asyncio\n",
    "from schema_agents.role import Message\n",
    "from schema_agents import schema_tool, Role\n",
    "import json\n",
    "import re\n",
    "import sys\n",
    "import time\n",
    "import urllib.request"
   ]
  },
  {
   "cell_type": "code",
   "execution_count": 5,
   "metadata": {},
   "outputs": [],
   "source": [
    "def call_api(url):\n",
    "    time.sleep(1)\n",
    "    url = url.replace(' ', '+')\n",
    "    print(url)\n",
    "\n",
    "    req = urllib.request.Request(url) \n",
    "    with urllib.request.urlopen(req) as response:\n",
    "        call = response.read()\n",
    "\n",
    "    # return call.decode()\n",
    "    return call"
   ]
  },
  {
   "cell_type": "code",
   "execution_count": 21,
   "metadata": {},
   "outputs": [
    {
     "name": "stdout",
     "output_type": "stream",
     "text": [
      "https://eutils.ncbi.nlm.nih.gov/entrez/eutils/efetch.fcgi?db=pmc&id=PMC10838546\n"
     ]
    }
   ],
   "source": [
    "url = \"https://eutils.ncbi.nlm.nih.gov/entrez/eutils/efetch.fcgi?db=pmc&id=PMC10838546\"\n",
    "res = call_api(url)"
   ]
  },
  {
   "cell_type": "code",
   "execution_count": 22,
   "metadata": {},
   "outputs": [
    {
     "data": {
      "text/plain": [
       "b'<?xml version=\"1.0\" ?>\\n<!DOCTYPE pmc-articleset PUBLIC \"-//NLM//DTD ARTICLE SET 2.0//EN\" \"https://dtd.nlm.nih.gov/ncbi/pmc/articleset/nlm-articleset-2.0.dtd\">\\n<pmc-articleset><article xmlns:mml=\"http://www.w3.org/1998/Math/MathML\" xmlns:xlink=\"http://www.w3.org/1999/xlink\" dtd-version=\"1.3\" xml:lang=\"en\" article-type=\"research-article\">\\n  <!--The publisher of this article does not allow downloading of the full text in XML form.-->\\n  <?properties manuscript?>\\n  <processing-meta base-tagset=\"archiving\" mathml-version=\"3.0\" table-model=\"xhtml\" tagset-family=\"jats\">\\n    <restricted-by>pmc</restricted-by>\\n  </processing-meta>\\n  <front>\\n    <journal-meta>\\n      <journal-id journal-id-type=\"nlm-journal-id\">9604648</journal-id>\\n      <journal-id journal-id-type=\"pubmed-jr-id\">20305</journal-id>\\n      <journal-id journal-id-type=\"nlm-ta\">Nat Biotechnol</journal-id>\\n      <journal-id journal-id-type=\"iso-abbrev\">Nat Biotechnol</journal-id>\\n      <journal-title-group>\\n        <journal-title>Nature biotechnology</journal-title>\\n      </journal-title-group>\\n      <issn pub-type=\"ppub\">1087-0156</issn>\\n      <issn pub-type=\"epub\">1546-1696</issn>\\n    </journal-meta>\\n    <article-meta>\\n      <article-id pub-id-type=\"pmid\">33273732</article-id>\\n      <article-id pub-id-type=\"pmc\">10838546</article-id>\\n      <article-id pub-id-type=\"doi\">10.1038/s41587-020-00758-7</article-id>\\n      <article-id pub-id-type=\"manuscript\">NIHMS1960342</article-id>\\n      <article-categories>\\n        <subj-group subj-group-type=\"heading\">\\n          <subject>Article</subject>\\n        </subj-group>\\n      </article-categories>\\n      <title-group>\\n        <article-title>The Art of Virtual Mentoring in the 21<sup>st</sup> Century for STEM Majors and Beyond</article-title>\\n      </title-group>\\n      <contrib-group>\\n        <contrib contrib-type=\"author\">\\n          <name>\\n            <surname>McReynolds</surname>\\n            <given-names>Melanie R.</given-names>\\n          </name>\\n          <degrees>Ph.D.</degrees>\\n          <xref rid=\"A1\" ref-type=\"aff\">1</xref>\\n          <xref rid=\"FN1\" ref-type=\"author-notes\">*</xref>\\n        </contrib>\\n        <contrib contrib-type=\"author\">\\n          <name>\\n            <surname>Termini</surname>\\n            <given-names>Christina M.</given-names>\\n          </name>\\n          <degrees>Ph.D.</degrees>\\n          <xref rid=\"A2\" ref-type=\"aff\">2</xref>\\n          <xref rid=\"FN1\" ref-type=\"author-notes\">*</xref>\\n        </contrib>\\n        <contrib contrib-type=\"author\">\\n          <name>\\n            <surname>Hinton</surname>\\n            <given-names>Antentor</given-names>\\n            <suffix>Jr.</suffix>\\n          </name>\\n          <degrees>Ph.D.</degrees>\\n          <xref rid=\"A3\" ref-type=\"aff\">3</xref>\\n          <xref rid=\"A4\" ref-type=\"aff\">4</xref>\\n        </contrib>\\n        <contrib contrib-type=\"author\">\\n          <name>\\n            <surname>Taylor</surname>\\n            <given-names>Brittany L.</given-names>\\n          </name>\\n          <degrees>Ph.D.</degrees>\\n          <xref rid=\"A5\" ref-type=\"aff\">5</xref>\\n          <xref rid=\"A6\" ref-type=\"aff\">6</xref>\\n        </contrib>\\n        <contrib contrib-type=\"author\">\\n          <name>\\n            <surname>Vue</surname>\\n            <given-names>Zer</given-names>\\n          </name>\\n          <degrees>Ph.D.</degrees>\\n          <xref rid=\"A7\" ref-type=\"aff\">7</xref>\\n        </contrib>\\n        <contrib contrib-type=\"author\">\\n          <name>\\n            <surname>Huang</surname>\\n            <given-names>Sunny C.</given-names>\\n          </name>\\n          <xref rid=\"A4\" ref-type=\"aff\">4</xref>\\n          <xref rid=\"A10\" ref-type=\"aff\">10</xref>\\n        </contrib>\\n        <contrib contrib-type=\"author\">\\n          <name>\\n            <surname>Roby</surname>\\n            <given-names>ReAnna S.</given-names>\\n          </name>\\n          <degrees>Ph.D.</degrees>\\n          <xref rid=\"A8\" ref-type=\"aff\">8</xref>\\n        </contrib>\\n        <contrib contrib-type=\"author\">\\n          <name>\\n            <surname>Shuler</surname>\\n            <given-names>Haysetta</given-names>\\n          </name>\\n          <degrees>Ph.D.</degrees>\\n          <xref rid=\"A9\" ref-type=\"aff\">9</xref>\\n          <xref rid=\"CR1\" ref-type=\"corresp\">#</xref>\\n        </contrib>\\n        <contrib contrib-type=\"author\">\\n          <name>\\n            <surname>Carter</surname>\\n            <given-names>Calvin S.</given-names>\\n          </name>\\n          <degrees>Ph.D</degrees>\\n          <xref rid=\"A3\" ref-type=\"aff\">3</xref>\\n          <xref rid=\"A4\" ref-type=\"aff\">4</xref>\\n          <xref rid=\"A10\" ref-type=\"aff\">10</xref>\\n          <xref rid=\"CR1\" ref-type=\"corresp\">#</xref>\\n        </contrib>\\n      </contrib-group>\\n      <aff id=\"A1\"><label>1</label>Lewis-Sigler Institute for Integrative Genomics and Department of Chemistry, Princeton University, Princeton, NJ</aff>\\n      <aff id=\"A2\"><label>2</label>Department of Medicine, Division of Hematology/Oncology, The University of California, Los Angeles, Los Angeles, CA</aff>\\n      <aff id=\"A3\"><label>3</label>Department of Internal Medicine, University of Iowa Hospitals and Clinics, Iowa City, IA</aff>\\n      <aff id=\"A4\"><label>4</label>Fraternal Order of Eagles Diabetes Research Center, Roy J. and Lucille A. Carver College of Medicine, University of Iowa, Iowa City, IA</aff>\\n      <aff id=\"A5\"><label>5</label>Department of Orthopaedic Surgery, Perelman School of Medicine, University of Pennsylvania, Philadelphia, PA</aff>\\n      <aff id=\"A6\"><label>6</label>McKay Orthopaedic Research Lab, University of Pennsylvania, Philadelphia, PA</aff>\\n      <aff id=\"A7\"><label>7</label>Department of Cell &amp; Tissue Biology, University of California, San Francisco, San Francisco, CA</aff>\\n      <aff id=\"A8\"><label>8</label>Fisk-Vanderbilt Center of Excellence, Peabody College, Vanderbilt University, Nashville, TN</aff>\\n      <aff id=\"A9\"><label>9</label>Department of Biological Sciences, Winston-Salem State University, Winston-Salem, NC</aff>\\n      <aff id=\"A10\"><label>10</label>Geminii, Inc., Iowa City, IA</aff>\\n      <author-notes>\\n        <corresp id=\"CR1\"><label>#</label>Co-corresponding authors: Calvin S. Carter, PhD, Geminii, Inc. Iowa City, IA 52246 and Haysetta Shuler, PhD, Winston-Salem State University, Winston-Salem NC 27110. <ext-link xlink:href=\"http://@calvinscarter\" ext-link-type=\"uri\">@calvinscarter</ext-link></corresp>\\n        <fn id=\"FN1\">\\n          <label>*</label>\\n          <p id=\"P1\">Denotes Co-first authorship</p>\\n        </fn>\\n      </author-notes>\\n      <pub-date pub-type=\"nihms-submitted\">\\n        <day>28</day>\\n        <month>1</month>\\n        <year>2024</year>\\n      </pub-date>\\n      <pub-date pub-type=\"ppub\">\\n        <month>12</month>\\n        <year>2020</year>\\n      </pub-date>\\n      <pub-date pub-type=\"pmc-release\">\\n        <day>04</day>\\n        <month>2</month>\\n        <year>2024</year>\\n      </pub-date>\\n      <volume>38</volume>\\n      <issue>12</issue>\\n      <fpage>1477</fpage>\\n      <lpage>1482</lpage>\\n    </article-meta>\\n  </front>\\n</article>\\n</pmc-articleset>'"
      ]
     },
     "execution_count": 22,
     "metadata": {},
     "output_type": "execute_result"
    }
   ],
   "source": [
    "res"
   ]
  },
  {
   "cell_type": "code",
   "execution_count": 14,
   "metadata": {},
   "outputs": [
    {
     "data": {
      "text/plain": [
       "{'header': {'type': 'esearch', 'version': '0.3'},\n",
       " 'esearchresult': {'count': '105731',\n",
       "  'retmax': '10',\n",
       "  'retstart': '0',\n",
       "  'idlist': ['7615674',\n",
       "   '10895950',\n",
       "   '10846889',\n",
       "   '10846884',\n",
       "   '10905971',\n",
       "   '7163933',\n",
       "   '10868656',\n",
       "   '10846888',\n",
       "   '10838546',\n",
       "   '10824537'],\n",
       "  'translationset': [{'from': 'COVID-19',\n",
       "    'to': '\"COVID-19\"[All Fields] OR \"COVID-19\"[MeSH Terms] OR \"COVID-19 Vaccines\"[All Fields] OR \"COVID-19 Vaccines\"[MeSH Terms] OR \"COVID-19 serotherapy\"[All Fields] OR \"COVID-19 Nucleic Acid Testing\"[All Fields] OR \"covid-19 nucleic acid testing\"[MeSH Terms] OR \"COVID-19 Serological Testing\"[All Fields] OR \"covid-19 serological testing\"[MeSH Terms] OR \"COVID-19 Testing\"[All Fields] OR \"covid-19 testing\"[MeSH Terms] OR \"SARS-CoV-2\"[All Fields] OR \"sars-cov-2\"[MeSH Terms] OR \"Severe Acute Respiratory Syndrome Coronavirus 2\"[All Fields] OR \"NCOV\"[All Fields] OR \"2019 NCOV\"[All Fields] OR ((\"coronavirus\"[MeSH Terms] OR \"coronavirus\"[All Fields] OR \"COV\"[All Fields]) AND 2019/11/01[PubDate] : 3000/12/31[PubDate])'}],\n",
       "  'translationstack': [{'term': '\"COVID-19\"[All Fields]',\n",
       "    'field': 'All Fields',\n",
       "    'count': '625718',\n",
       "    'explode': 'N'},\n",
       "   {'term': '\"COVID-19\"[MeSH Terms]',\n",
       "    'field': 'MeSH Terms',\n",
       "    'count': '163462',\n",
       "    'explode': 'Y'},\n",
       "   'OR',\n",
       "   {'term': '\"COVID-19 Vaccines\"[All Fields]',\n",
       "    'field': 'All Fields',\n",
       "    'count': '46422',\n",
       "    'explode': 'N'},\n",
       "   'OR',\n",
       "   {'term': '\"COVID-19 Vaccines\"[MeSH Terms]',\n",
       "    'field': 'MeSH Terms',\n",
       "    'count': '15681',\n",
       "    'explode': 'Y'},\n",
       "   'OR',\n",
       "   {'term': '\"COVID-19 serotherapy\"[All Fields]',\n",
       "    'field': 'All Fields',\n",
       "    'count': '654',\n",
       "    'explode': 'N'},\n",
       "   'OR',\n",
       "   {'term': '\"COVID-19 Nucleic Acid Testing\"[All Fields]',\n",
       "    'field': 'All Fields',\n",
       "    'count': '1510',\n",
       "    'explode': 'N'},\n",
       "   'OR',\n",
       "   {'term': '\"covid-19 nucleic acid testing\"[MeSH Terms]',\n",
       "    'field': 'MeSH Terms',\n",
       "    'count': '1333',\n",
       "    'explode': 'Y'},\n",
       "   'OR',\n",
       "   {'term': '\"COVID-19 Serological Testing\"[All Fields]',\n",
       "    'field': 'All Fields',\n",
       "    'count': '1065',\n",
       "    'explode': 'N'},\n",
       "   'OR',\n",
       "   {'term': '\"covid-19 serological testing\"[MeSH Terms]',\n",
       "    'field': 'MeSH Terms',\n",
       "    'count': '905',\n",
       "    'explode': 'Y'},\n",
       "   'OR',\n",
       "   {'term': '\"COVID-19 Testing\"[All Fields]',\n",
       "    'field': 'All Fields',\n",
       "    'count': '22826',\n",
       "    'explode': 'N'},\n",
       "   'OR',\n",
       "   {'term': '\"covid-19 testing\"[MeSH Terms]',\n",
       "    'field': 'MeSH Terms',\n",
       "    'count': '8595',\n",
       "    'explode': 'Y'},\n",
       "   'OR',\n",
       "   {'term': '\"SARS-CoV-2\"[All Fields]',\n",
       "    'field': 'All Fields',\n",
       "    'count': '315737',\n",
       "    'explode': 'N'},\n",
       "   'OR',\n",
       "   {'term': '\"sars-cov-2\"[MeSH Terms]',\n",
       "    'field': 'MeSH Terms',\n",
       "    'count': '115444',\n",
       "    'explode': 'Y'},\n",
       "   'OR',\n",
       "   {'term': '\"Severe Acute Respiratory Syndrome Coronavirus 2\"[All Fields]',\n",
       "    'field': 'All Fields',\n",
       "    'count': '120943',\n",
       "    'explode': 'N'},\n",
       "   'OR',\n",
       "   {'term': '\"NCOV\"[All Fields]',\n",
       "    'field': 'All Fields',\n",
       "    'count': '68377',\n",
       "    'explode': 'N'},\n",
       "   'OR',\n",
       "   {'term': '\"2019 NCOV\"[All Fields]',\n",
       "    'field': 'All Fields',\n",
       "    'count': '53805',\n",
       "    'explode': 'N'},\n",
       "   'OR',\n",
       "   {'term': '\"coronavirus\"[MeSH Terms]',\n",
       "    'field': 'MeSH Terms',\n",
       "    'count': '123002',\n",
       "    'explode': 'Y'},\n",
       "   {'term': '\"coronavirus\"[All Fields]',\n",
       "    'field': 'All Fields',\n",
       "    'count': '386938',\n",
       "    'explode': 'N'},\n",
       "   'OR',\n",
       "   {'term': '\"COV\"[All Fields]',\n",
       "    'field': 'All Fields',\n",
       "    'count': '331919',\n",
       "    'explode': 'N'},\n",
       "   'OR',\n",
       "   'GROUP',\n",
       "   {'term': '2019/11/01[PubDate]',\n",
       "    'field': 'PubDate',\n",
       "    'count': '0',\n",
       "    'explode': 'N'},\n",
       "   {'term': '3000/12/31[PubDate]',\n",
       "    'field': 'PubDate',\n",
       "    'count': '0',\n",
       "    'explode': 'N'},\n",
       "   'RANGE',\n",
       "   'AND',\n",
       "   'GROUP',\n",
       "   'OR',\n",
       "   'GROUP',\n",
       "   {'term': '2020[pdat]', 'field': 'pdat', 'count': '747900', 'explode': 'N'},\n",
       "   'AND'],\n",
       "  'querytranslation': '(\"COVID-19\"[All Fields] OR \"COVID-19\"[MeSH Terms] OR \"COVID-19 Vaccines\"[All Fields] OR \"COVID-19 Vaccines\"[MeSH Terms] OR \"COVID-19 serotherapy\"[All Fields] OR \"COVID-19 Nucleic Acid Testing\"[All Fields] OR \"covid-19 nucleic acid testing\"[MeSH Terms] OR \"COVID-19 Serological Testing\"[All Fields] OR \"covid-19 serological testing\"[MeSH Terms] OR \"COVID-19 Testing\"[All Fields] OR \"covid-19 testing\"[MeSH Terms] OR \"SARS-CoV-2\"[All Fields] OR \"sars-cov-2\"[MeSH Terms] OR \"Severe Acute Respiratory Syndrome Coronavirus 2\"[All Fields] OR \"NCOV\"[All Fields] OR \"2019 NCOV\"[All Fields] OR ((\"coronavirus\"[MeSH Terms] OR \"coronavirus\"[All Fields] OR \"COV\"[All Fields]) AND 2019/11/01[PubDate] : 3000/12/31[PubDate])) AND 2020[pdat]'}}"
      ]
     },
     "execution_count": 14,
     "metadata": {},
     "output_type": "execute_result"
    }
   ],
   "source": [
    "# json.loads(res)"
   ]
  }
 ],
 "metadata": {
  "kernelspec": {
   "display_name": "novel-designer",
   "language": "python",
   "name": "python3"
  },
  "language_info": {
   "codemirror_mode": {
    "name": "ipython",
    "version": 3
   },
   "file_extension": ".py",
   "mimetype": "text/x-python",
   "name": "python",
   "nbconvert_exporter": "python",
   "pygments_lexer": "ipython3",
   "version": "3.10.13"
  }
 },
 "nbformat": 4,
 "nbformat_minor": 2
}
