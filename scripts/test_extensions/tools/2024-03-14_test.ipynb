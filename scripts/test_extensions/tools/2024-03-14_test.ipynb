{
 "cells": [
  {
   "cell_type": "code",
   "execution_count": 36,
   "metadata": {},
   "outputs": [],
   "source": [
    "import httpx\n",
    "from bs4 import BeautifulSoup\n",
    "from langchain.schema import Document\n",
    "from pydantic import Field\n",
    "from langchain.retrievers import BM25Retriever, EnsembleRetriever\n",
    "from langchain_openai import OpenAIEmbeddings\n",
    "from langchain_community.vectorstores import FAISS\n",
    "from langchain_community.retrievers import BM25Retriever\n",
    "import re\n",
    "import httpx\n",
    "from bs4 import BeautifulSoup\n",
    "from langchain_community.document_transformers import EmbeddingsRedundantFilter\n",
    "from langchain.retrievers.document_compressors import DocumentCompressorPipeline\n",
    "from langchain.retrievers.ensemble import EnsembleRetriever\n",
    "from langchain_openai import OpenAIEmbeddings # HuggingFaceEmbeddings\n",
    "from langchain.text_splitter import RecursiveCharacterTextSplitter\n",
    "from langchain_community.vectorstores import FAISS\n",
    "from langchain.retrievers.document_compressors.embeddings_filter import EmbeddingsFilter\n",
    "from langchain.retrievers import ContextualCompressionRetriever\n",
    "from langchain.schema import Document"
   ]
  },
  {
   "cell_type": "code",
   "execution_count": 4,
   "metadata": {},
   "outputs": [
    {
     "name": "stderr",
     "output_type": "stream",
     "text": [
      "2024-03-14 19:55:23.606 | INFO     | schema_agents.config:__init__:44 - Config loading done.\n",
      "2024-03-14 19:55:23.607 | INFO     | schema_agents.config:__init__:55 - Set OPENAI_API_BASE in case of network issues\n"
     ]
    }
   ],
   "source": [
    "from NCBI import call_api"
   ]
  },
  {
   "cell_type": "code",
   "execution_count": 5,
   "metadata": {},
   "outputs": [
    {
     "name": "stdout",
     "output_type": "stream",
     "text": [
      "https://eutils.ncbi.nlm.nih.gov/entrez/eutils/efetch.fcgi?db=pmc&id=PMC1790863\n"
     ]
    }
   ],
   "source": [
    "documents = []\n",
    "pubmed_query_url = \"https://eutils.ncbi.nlm.nih.gov/entrez/eutils/efetch.fcgi?db=pmc&id=PMC1790863\"\n",
    "pubmed_response = call_api(pubmed_query_url).decode()"
   ]
  },
  {
   "cell_type": "code",
   "execution_count": 15,
   "metadata": {},
   "outputs": [],
   "source": [
    "bm25_retriever = BM25Retriever.from_texts(documents, metadatas=[{\"source\": \"pubmed\"}] * len(documents))\n",
    "bm25_retriever.k = 5"
   ]
  },
  {
   "cell_type": "code",
   "execution_count": 17,
   "metadata": {},
   "outputs": [],
   "source": [
    "embedding = OpenAIEmbeddings()"
   ]
  },
  {
   "cell_type": "code",
   "execution_count": 18,
   "metadata": {},
   "outputs": [],
   "source": [
    "faiss_vectorstore = FAISS.from_texts(documents, embedding=embedding, metadatas=[{\"source\": \"pubmed\"}] * len(documents))"
   ]
  },
  {
   "cell_type": "code",
   "execution_count": 19,
   "metadata": {},
   "outputs": [],
   "source": [
    "faiss_retriever = faiss_vectorstore.as_retriever(search_kwargs = {'k' : 5})"
   ]
  },
  {
   "cell_type": "code",
   "execution_count": 21,
   "metadata": {},
   "outputs": [],
   "source": [
    "ensemble_retriever = EnsembleRetriever(retrievers=[bm25_retriever, faiss_retriever], weights= [0.5, 0.5])"
   ]
  },
  {
   "cell_type": "code",
   "execution_count": 9,
   "metadata": {},
   "outputs": [],
   "source": [
    "from xml.etree import cElementTree as ET\n",
    "tree = ET.fromstring(pubmed_response)\n",
    "article_body = tree.find(\".//body\")"
   ]
  },
  {
   "cell_type": "code",
   "execution_count": 12,
   "metadata": {},
   "outputs": [],
   "source": [
    "def extract_text(element):\n",
    "    text = \"\"\n",
    "    if element.text:\n",
    "        text += element.text\n",
    "    for child in element:\n",
    "        text += extract_text(child)\n",
    "        if child.tail:\n",
    "            text += child.tail\n",
    "    return text"
   ]
  },
  {
   "cell_type": "code",
   "execution_count": 14,
   "metadata": {},
   "outputs": [],
   "source": [
    "article_text = extract_text(article_body).strip()\n",
    "with open(\"pubmedtool.txt\", 'w') as f:\n",
    "    f.write(article_text)"
   ]
  },
  {
   "cell_type": "code",
   "execution_count": 21,
   "metadata": {},
   "outputs": [],
   "source": [
    "documents = [Document(page_content=article_text, metadata={\"source\": \"pubmed\"})]"
   ]
  },
  {
   "cell_type": "code",
   "execution_count": 22,
   "metadata": {},
   "outputs": [],
   "source": [
    "from langchain.text_splitter import RecursiveCharacterTextSplitter"
   ]
  },
  {
   "cell_type": "code",
   "execution_count": 28,
   "metadata": {},
   "outputs": [],
   "source": [
    "chunk_size = 500\n",
    "num_results = 5"
   ]
  },
  {
   "cell_type": "code",
   "execution_count": 24,
   "metadata": {},
   "outputs": [],
   "source": [
    "text_splitter = RecursiveCharacterTextSplitter(chunk_size=chunk_size, chunk_overlap=10,\n",
    "                                                       separators=[\"\\n\\n\", \"\\n\", \".\", \", \", \" \", \"\"])\n",
    "split_docs = text_splitter.split_documents(documents)"
   ]
  },
  {
   "cell_type": "code",
   "execution_count": 26,
   "metadata": {},
   "outputs": [],
   "source": [
    "embedding = OpenAIEmbeddings()"
   ]
  },
  {
   "cell_type": "code",
   "execution_count": 29,
   "metadata": {},
   "outputs": [],
   "source": [
    "faiss_retriever = FAISS.from_documents(split_docs, embedding).as_retriever(search_kwargs={\"k\": 5})"
   ]
  },
  {
   "cell_type": "code",
   "execution_count": 33,
   "metadata": {},
   "outputs": [],
   "source": [
    "def preprocess_text(text: str) -> str:\n",
    "    text = text.replace(\"\\n\", \" \\n\")\n",
    "    spaces_regex = re.compile(r\" {3,}\")\n",
    "    text = spaces_regex.sub(\" \", text)\n",
    "    text = text.strip()\n",
    "    return text"
   ]
  },
  {
   "cell_type": "code",
   "execution_count": 34,
   "metadata": {},
   "outputs": [],
   "source": [
    "bm25_retriever = BM25Retriever.from_documents(split_docs, preprocess_func=preprocess_text)\n",
    "bm25_retriever.k = num_results"
   ]
  },
  {
   "cell_type": "code",
   "execution_count": 38,
   "metadata": {},
   "outputs": [],
   "source": [
    "similarity_threshold = 0.5"
   ]
  },
  {
   "cell_type": "code",
   "execution_count": 54,
   "metadata": {},
   "outputs": [],
   "source": [
    "redundant_filter = EmbeddingsRedundantFilter(embeddings=embedding)\n",
    "embeddings_filter = EmbeddingsFilter(embeddings=embedding, k=None, similarity_threshold=similarity_threshold)\n",
    "pipeline_compressor = DocumentCompressorPipeline(transformers=[redundant_filter, embeddings_filter])\n",
    "compression_retriever = ContextualCompressionRetriever(base_compressor=pipeline_compressor, base_retriever=faiss_retriever)\n",
    "ensemble_retriever = EnsembleRetriever(retrievers=[bm25_retriever, compression_retriever], weights=[0.5, 0.5])"
   ]
  },
  {
   "cell_type": "code",
   "execution_count": 55,
   "metadata": {},
   "outputs": [],
   "source": [
    "query = 'What methods were used in the paper?'"
   ]
  },
  {
   "cell_type": "code",
   "execution_count": 56,
   "metadata": {},
   "outputs": [],
   "source": [
    "compressed_docs = await ensemble_retriever.aget_relevant_documents(query)\n",
    "# Ensemble may return more than \"num_results\" results, so cut off excess ones\n",
    "res = compressed_docs[:num_results]"
   ]
  }
 ],
 "metadata": {
  "kernelspec": {
   "display_name": "exponential-chain",
   "language": "python",
   "name": "python3"
  },
  "language_info": {
   "codemirror_mode": {
    "name": "ipython",
    "version": 3
   },
   "file_extension": ".py",
   "mimetype": "text/x-python",
   "name": "python",
   "nbconvert_exporter": "python",
   "pygments_lexer": "ipython3",
   "version": "3.10.13"
  }
 },
 "nbformat": 4,
 "nbformat_minor": 2
}
